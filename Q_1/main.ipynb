{
 "cells": [
  {
   "cell_type": "code",
   "execution_count": 1,
   "metadata": {},
   "outputs": [],
   "source": [
    "import pandas as pd\n",
    "import numpy as np\n",
    "import matplotlib.pyplot as plt\n",
    "import seaborn as sns\n",
    "import os"
   ]
  },
  {
   "cell_type": "code",
   "execution_count": 2,
   "metadata": {},
   "outputs": [],
   "source": [
    "# Read the data from txt file\n",
    "with open('../Data/email-Eu-core-department-labels.txt') as f:\n",
    "    department_labels = f.readlines()\n",
    "with open('../Data/email-Eu-core.txt') as f:\n",
    "    core_data = f.readlines()"
   ]
  },
  {
   "cell_type": "code",
   "execution_count": 3,
   "metadata": {},
   "outputs": [],
   "source": [
    "# strip and split the data\n",
    "department_labels = [x.strip().split() for x in department_labels]\n",
    "core_data = [x.strip().split() for x in core_data]"
   ]
  },
  {
   "cell_type": "code",
   "execution_count": 4,
   "metadata": {},
   "outputs": [
    {
     "name": "stdout",
     "output_type": "stream",
     "text": [
      "There are 42 unique departments\n"
     ]
    }
   ],
   "source": [
    "# how many unique departments are there?\n",
    "unique_departments = set([x[1] for x in department_labels])\n",
    "print('There are {} unique departments'.format(len(unique_departments)))"
   ]
  },
  {
   "attachments": {},
   "cell_type": "markdown",
   "metadata": {},
   "source": [
    "## Adjacency Matrix and List"
   ]
  },
  {
   "cell_type": "code",
   "execution_count": 5,
   "metadata": {},
   "outputs": [],
   "source": [
    "# make graph treating each entry in core_data as an edge\n",
    "num_nodes = len(set([x[0] for x in core_data] + [x[1] for x in core_data]))\n",
    "\n",
    "adjacency_matrix = np.zeros((num_nodes, num_nodes))\n",
    "for edge in core_data:\n",
    "    adjacency_matrix[int(edge[0]), int(edge[1])] = 1\n",
    "\n",
    "# create adjacency list from core_data\n",
    "adjacency_list = [[] for i in range(num_nodes)]\n",
    "for edge in core_data:\n",
    "    adjacency_list[int(edge[0])].append(int(edge[1]))"
   ]
  },
  {
   "attachments": {},
   "cell_type": "markdown",
   "metadata": {},
   "source": [
    "#### 1. Number of Nodes"
   ]
  },
  {
   "cell_type": "code",
   "execution_count": 6,
   "metadata": {},
   "outputs": [
    {
     "name": "stdout",
     "output_type": "stream",
     "text": [
      "There are 1005 nodes in the graph\n"
     ]
    }
   ],
   "source": [
    "num_nodes = len(adjacency_list)\n",
    "print('There are {} nodes in the graph'.format(num_nodes))"
   ]
  },
  {
   "attachments": {},
   "cell_type": "markdown",
   "metadata": {},
   "source": [
    "#### 2. Number of Edges"
   ]
  },
  {
   "cell_type": "code",
   "execution_count": 7,
   "metadata": {},
   "outputs": [
    {
     "name": "stdout",
     "output_type": "stream",
     "text": [
      "There are 25571 edges in the graph\n"
     ]
    }
   ],
   "source": [
    "num_edges = sum([len(x) for x in adjacency_list])\n",
    "print('There are {} edges in the graph'.format(num_edges))"
   ]
  },
  {
   "attachments": {},
   "cell_type": "markdown",
   "metadata": {},
   "source": [
    "#### 3. Avg In-Degree"
   ]
  },
  {
   "cell_type": "code",
   "execution_count": 8,
   "metadata": {},
   "outputs": [
    {
     "name": "stdout",
     "output_type": "stream",
     "text": [
      "The average indegree is 25.443781094527363\n"
     ]
    }
   ],
   "source": [
    "# indegree is the number of edges pointing to a node\n",
    "ls_indegree = []\n",
    "for i in range(num_nodes):\n",
    "    ls_nodes_that_point_to_i = [x for x in adjacency_list if i in x]\n",
    "    ls_indegree.append(len(ls_nodes_that_point_to_i))\n",
    "print('The average indegree is {}'.format(np.mean(ls_indegree)))"
   ]
  },
  {
   "attachments": {},
   "cell_type": "markdown",
   "metadata": {},
   "source": [
    "#### 4. Avg Out-Degree"
   ]
  },
  {
   "cell_type": "code",
   "execution_count": 9,
   "metadata": {},
   "outputs": [
    {
     "name": "stdout",
     "output_type": "stream",
     "text": [
      "The average outdegree is 25.443781094527363\n"
     ]
    }
   ],
   "source": [
    "ls_outdegree = [len(x) for x in adjacency_list]\n",
    "print('The average outdegree is {}'.format(np.mean(ls_outdegree)))"
   ]
  },
  {
   "attachments": {},
   "cell_type": "markdown",
   "metadata": {},
   "source": [
    "#### 5. Node with Max In-Degree"
   ]
  },
  {
   "cell_type": "code",
   "execution_count": 10,
   "metadata": {},
   "outputs": [
    {
     "name": "stdout",
     "output_type": "stream",
     "text": [
      "The node with the maximum indegree is 160 with indegree 212\n"
     ]
    }
   ],
   "source": [
    "node_with_max_indegree = np.argmax(ls_indegree)\n",
    "max_indegree = ls_indegree[node_with_max_indegree]\n",
    "print('The node with the maximum indegree is {} with indegree {}'.format(node_with_max_indegree, max_indegree))"
   ]
  },
  {
   "attachments": {},
   "cell_type": "markdown",
   "metadata": {},
   "source": [
    "#### 6. Node with Max Out-Degree"
   ]
  },
  {
   "cell_type": "code",
   "execution_count": 11,
   "metadata": {},
   "outputs": [
    {
     "name": "stdout",
     "output_type": "stream",
     "text": [
      "The node with the maximum outdegree is 160 with outdegree 334\n"
     ]
    }
   ],
   "source": [
    "node_with_max_outdegree = np.argmax(ls_outdegree)\n",
    "max_outdegree = ls_outdegree[node_with_max_outdegree]\n",
    "print('The node with the maximum outdegree is {} with outdegree {}'.format(node_with_max_outdegree, max_outdegree))"
   ]
  },
  {
   "attachments": {},
   "cell_type": "markdown",
   "metadata": {},
   "source": [
    "#### 7. Density of the Network"
   ]
  },
  {
   "cell_type": "code",
   "execution_count": 12,
   "metadata": {},
   "outputs": [
    {
     "name": "stdout",
     "output_type": "stream",
     "text": [
      "The density of the graph is 0.025342411448732432\n"
     ]
    }
   ],
   "source": [
    "density = num_edges / (num_nodes * (num_nodes - 1))\n",
    "print('The density of the graph is {}'.format(density))"
   ]
  },
  {
   "attachments": {},
   "cell_type": "markdown",
   "metadata": {},
   "source": [
    "#### Degree distribution of the network"
   ]
  },
  {
   "cell_type": "code",
   "execution_count": 13,
   "metadata": {},
   "outputs": [
    {
     "data": {
      "text/plain": [
       "Text(0, 0.5, 'Frequency')"
      ]
     },
     "execution_count": 13,
     "metadata": {},
     "output_type": "execute_result"
    },
    {
     "data": {
      "image/png": "[encoded data removed]",
      "text/plain": [
       "<Figure size 432x288 with 1 Axes>"
      ]
     },
     "metadata": {
      "needs_background": "light"
     },
     "output_type": "display_data"
    }
   ],
   "source": [
    "plt.hist(ls_indegree, bins=100)\n",
    "plt.title('In-degree distribution')\n",
    "plt.xlabel('In-degree')\n",
    "plt.ylabel('Frequency')"
   ]
  },
  {
   "cell_type": "code",
   "execution_count": 14,
   "metadata": {},
   "outputs": [
    {
     "data": {
      "text/plain": [
       "Text(0, 0.5, 'Frequency')"
      ]
     },
     "execution_count": 14,
     "metadata": {},
     "output_type": "execute_result"
    },
    {
     "data": {
      "image/png": "[encoded data removed]",
      "text/plain": [
       "<Figure size 432x288 with 1 Axes>"
      ]
     },
     "metadata": {
      "needs_background": "light"
     },
     "output_type": "display_data"
    }
   ],
   "source": [
    "plt.hist(ls_outdegree, bins=100)\n",
    "plt.title('Out-degree distribution')\n",
    "plt.xlabel('Out-degree')\n",
    "plt.ylabel('Frequency')"
   ]
  },
  {
   "attachments": {},
   "cell_type": "markdown",
   "metadata": {},
   "source": [
    "#### Local clustering coefficient of each node & clustering-coefficient distribution"
   ]
  },
  {
   "cell_type": "code",
   "execution_count": 15,
   "metadata": {},
   "outputs": [],
   "source": [
    "local_clustering_coefficient = []\n",
    "for node in range(num_nodes):\n",
    "    node_degree = len(adjacency_list[node])\n",
    "    if node_degree == 0 or node_degree == 1:\n",
    "        local_clustering_coefficient.append(0)\n",
    "    else:\n",
    "        num_links_between_neighbors = 0\n",
    "        neighbours = adjacency_list[node]\n",
    "        for i in range(len(neighbours)):\n",
    "            for j in range(i+1, len(neighbours)):\n",
    "                if adjacency_matrix[neighbours[i], neighbours[j]] == 1:\n",
    "                    num_links_between_neighbors += 1\n",
    "        local_clustering_coefficient.append(num_links_between_neighbors / (node_degree * (node_degree - 1)))\n"
   ]
  },
  {
   "cell_type": "code",
   "execution_count": 16,
   "metadata": {},
   "outputs": [],
   "source": [
    "lcc_vs_freq = {}\n",
    "for lcc in local_clustering_coefficient:\n",
    "    if lcc in lcc_vs_freq:\n",
    "        lcc_vs_freq[lcc] += 1\n",
    "    else:\n",
    "        lcc_vs_freq[lcc] = 1"
   ]
  },
  {
   "cell_type": "code",
   "execution_count": 26,
   "metadata": {},
   "outputs": [
    {
     "data": {
      "image/png": "[encoded data removed]",
      "text/plain": [
       "<Figure size 720x360 with 1 Axes>"
      ]
     },
     "metadata": {
      "needs_background": "light"
     },
     "output_type": "display_data"
    }
   ],
   "source": [
    "# plot the local clustering coefficient vs frequency\n",
    "plt.scatter(lcc_vs_freq.keys(), lcc_vs_freq.values())\n",
    "plt.title('Local clustering coefficient vs frequency')\n",
    "plt.xlabel('Local clustering coefficient')\n",
    "plt.ylabel('Frequency')\n",
    "# Increase the size of the plot\n",
    "plt.rcParams[\"figure.figsize\"] = (10,5)"
   ]
  },
  {
   "cell_type": "code",
   "execution_count": null,
   "metadata": {},
   "outputs": [],
   "source": []
  }
 ],
 "metadata": {
  "kernelspec": {
   "display_name": "Python 3",
   "language": "python",
   "name": "python3"
  },
  "language_info": {
   "codemirror_mode": {
    "name": "ipython",
    "version": 3
   },
   "file_extension": ".py",
   "mimetype": "text/x-python",
   "name": "python",
   "nbconvert_exporter": "python",
   "pygments_lexer": "ipython3",
   "version": "3.9.13"
  },
  "orig_nbformat": 4
 },
 "nbformat": 4,
 "nbformat_minor": 2
}
