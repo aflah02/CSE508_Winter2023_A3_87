{
 "cells": [
  {
   "cell_type": "code",
   "execution_count": 1,
   "metadata": {},
   "outputs": [],
   "source": [
    "import networkx as nx\n",
    "import pandas as pd\n",
    "import numpy as np\n",
    "import matplotlib.pyplot as plt\n",
    "import seaborn as sns\n",
    "import os"
   ]
  },
  {
   "cell_type": "code",
   "execution_count": 4,
   "metadata": {},
   "outputs": [],
   "source": [
    "# Read the data from txt file\n",
    "with open('../Data/email-Eu-core-department-labels.txt') as f:\n",
    "    department_labels = f.readlines()\n",
    "with open('../Data/email-Eu-core.txt') as f:\n",
    "    core_data = f.readlines()\n",
    "\n",
    "# strip and split the data\n",
    "department_labels = [x.strip().split() for x in department_labels]\n",
    "core_data = [x.strip().split() for x in core_data]"
   ]
  },
  {
   "cell_type": "code",
   "execution_count": 5,
   "metadata": {},
   "outputs": [],
   "source": [
    "# make graph treating each entry in core_data as an edge\n",
    "num_nodes = len(set([x[0] for x in core_data] + [x[1] for x in core_data]))\n",
    "\n",
    "adjacency_matrix = np.zeros((num_nodes, num_nodes))\n",
    "for edge in core_data:\n",
    "    adjacency_matrix[int(edge[0]), int(edge[1])] = 1\n",
    "\n",
    "# create adjacency list from core_data\n",
    "adjacency_list = [[] for i in range(num_nodes)]\n",
    "for edge in core_data:\n",
    "    adjacency_list[int(edge[0])].append(int(edge[1]))"
   ]
  },
  {
   "attachments": {},
   "cell_type": "markdown",
   "metadata": {},
   "source": [
    "#### 1. Page Rank Score for Each Node"
   ]
  },
  {
   "cell_type": "code",
   "execution_count": 7,
   "metadata": {},
   "outputs": [],
   "source": [
    "page_rank_scores = nx.pagerank(nx.from_numpy_matrix(adjacency_matrix))"
   ]
  },
  {
   "cell_type": "code",
   "execution_count": 8,
   "metadata": {},
   "outputs": [
    {
     "data": {
      "text/plain": [
       "(array([146., 108.,  65.,  52.,  48.,  56.,  51.,  62.,  43.,  46.,  33.,\n",
       "         26.,  30.,  32.,  23.,  14.,  14.,  16.,  12.,  15.,   6.,  13.,\n",
       "          6.,   8.,   9.,   6.,   5.,   3.,   4.,   4.,   5.,   0.,   2.,\n",
       "          6.,   2.,   3.,   3.,   7.,   2.,   1.,   1.,   0.,   0.,   2.,\n",
       "          0.,   2.,   1.,   1.,   1.,   3.,   0.,   0.,   0.,   1.,   0.,\n",
       "          0.,   0.,   0.,   0.,   1.,   0.,   0.,   1.,   1.,   0.,   1.,\n",
       "          1.,   0.,   0.,   0.,   0.,   0.,   0.,   0.,   0.,   0.,   0.,\n",
       "          0.,   0.,   0.,   0.,   0.,   0.,   0.,   0.,   0.,   0.,   0.,\n",
       "          0.,   0.,   0.,   0.,   0.,   0.,   0.,   0.,   0.,   0.,   0.,\n",
       "          1.]),\n",
       " array([0.00017081, 0.00025981, 0.00034881, 0.00043782, 0.00052682,\n",
       "        0.00061582, 0.00070482, 0.00079382, 0.00088282, 0.00097182,\n",
       "        0.00106083, 0.00114983, 0.00123883, 0.00132783, 0.00141683,\n",
       "        0.00150583, 0.00159483, 0.00168384, 0.00177284, 0.00186184,\n",
       "        0.00195084, 0.00203984, 0.00212884, 0.00221784, 0.00230684,\n",
       "        0.00239585, 0.00248485, 0.00257385, 0.00266285, 0.00275185,\n",
       "        0.00284085, 0.00292985, 0.00301886, 0.00310786, 0.00319686,\n",
       "        0.00328586, 0.00337486, 0.00346386, 0.00355286, 0.00364187,\n",
       "        0.00373087, 0.00381987, 0.00390887, 0.00399787, 0.00408687,\n",
       "        0.00417587, 0.00426487, 0.00435388, 0.00444288, 0.00453188,\n",
       "        0.00462088, 0.00470988, 0.00479888, 0.00488788, 0.00497689,\n",
       "        0.00506589, 0.00515489, 0.00524389, 0.00533289, 0.00542189,\n",
       "        0.00551089, 0.0055999 , 0.0056889 , 0.0057779 , 0.0058669 ,\n",
       "        0.0059559 , 0.0060449 , 0.0061339 , 0.0062229 , 0.00631191,\n",
       "        0.00640091, 0.00648991, 0.00657891, 0.00666791, 0.00675691,\n",
       "        0.00684591, 0.00693492, 0.00702392, 0.00711292, 0.00720192,\n",
       "        0.00729092, 0.00737992, 0.00746892, 0.00755793, 0.00764693,\n",
       "        0.00773593, 0.00782493, 0.00791393, 0.00800293, 0.00809193,\n",
       "        0.00818093, 0.00826994, 0.00835894, 0.00844794, 0.00853694,\n",
       "        0.00862594, 0.00871494, 0.00880394, 0.00889295, 0.00898195,\n",
       "        0.00907095]),\n",
       " <BarContainer object of 100 artists>)"
      ]
     },
     "execution_count": 8,
     "metadata": {},
     "output_type": "execute_result"
    },
    {
     "data": {
      "image/png": "[encoded data removed]",
      "text/plain": [
       "<Figure size 432x288 with 1 Axes>"
      ]
     },
     "metadata": {
      "needs_background": "light"
     },
     "output_type": "display_data"
    }
   ],
   "source": [
    "# plot the histogram of page rank scores\n",
    "plt.hist(page_rank_scores.values(), bins=100)"
   ]
  },
  {
   "attachments": {},
   "cell_type": "markdown",
   "metadata": {},
   "source": [
    "#### 2. Authority and Hub Score"
   ]
  },
  {
   "cell_type": "code",
   "execution_count": 12,
   "metadata": {},
   "outputs": [],
   "source": [
    "hubs, authorities = nx.hits(nx.from_numpy_matrix(adjacency_matrix))"
   ]
  },
  {
   "cell_type": "code",
   "execution_count": 13,
   "metadata": {},
   "outputs": [
    {
     "data": {
      "text/plain": [
       "(array([171.,  89.,  69.,  55.,  50.,  51.,  42.,  41.,  29.,  23.,  28.,\n",
       "         30.,  18.,  26.,  19.,  19.,  12.,  16.,  10.,  11.,  12.,  18.,\n",
       "         12.,   8.,   7.,   5.,   9.,   4.,   6.,   3.,  11.,   6.,   2.,\n",
       "          8.,   5.,   2.,   6.,   5.,   3.,   3.,   5.,   2.,   2.,   3.,\n",
       "          2.,   2.,   2.,   3.,   0.,   1.,   1.,   5.,   0.,   3.,   1.,\n",
       "          2.,   0.,   2.,   1.,   3.,   2.,   3.,   1.,   3.,   0.,   2.,\n",
       "          1.,   1.,   1.,   0.,   0.,   0.,   0.,   0.,   0.,   2.,   0.,\n",
       "          0.,   0.,   1.,   0.,   0.,   0.,   0.,   1.,   0.,   0.,   1.,\n",
       "          0.,   1.,   0.,   0.,   0.,   0.,   0.,   0.,   0.,   0.,   0.,\n",
       "          1.]),\n",
       " array([-5.82397136e-23,  8.37024819e-05,  1.67404964e-04,  2.51107446e-04,\n",
       "         3.34809928e-04,  4.18512409e-04,  5.02214891e-04,  5.85917373e-04,\n",
       "         6.69619855e-04,  7.53322337e-04,  8.37024819e-04,  9.20727301e-04,\n",
       "         1.00442978e-03,  1.08813226e-03,  1.17183475e-03,  1.25553723e-03,\n",
       "         1.33923971e-03,  1.42294219e-03,  1.50664467e-03,  1.59034716e-03,\n",
       "         1.67404964e-03,  1.75775212e-03,  1.84145460e-03,  1.92515708e-03,\n",
       "         2.00885957e-03,  2.09256205e-03,  2.17626453e-03,  2.25996701e-03,\n",
       "         2.34366949e-03,  2.42737197e-03,  2.51107446e-03,  2.59477694e-03,\n",
       "         2.67847942e-03,  2.76218190e-03,  2.84588438e-03,  2.92958687e-03,\n",
       "         3.01328935e-03,  3.09699183e-03,  3.18069431e-03,  3.26439679e-03,\n",
       "         3.34809928e-03,  3.43180176e-03,  3.51550424e-03,  3.59920672e-03,\n",
       "         3.68290920e-03,  3.76661168e-03,  3.85031417e-03,  3.93401665e-03,\n",
       "         4.01771913e-03,  4.10142161e-03,  4.18512409e-03,  4.26882658e-03,\n",
       "         4.35252906e-03,  4.43623154e-03,  4.51993402e-03,  4.60363650e-03,\n",
       "         4.68733899e-03,  4.77104147e-03,  4.85474395e-03,  4.93844643e-03,\n",
       "         5.02214891e-03,  5.10585139e-03,  5.18955388e-03,  5.27325636e-03,\n",
       "         5.35695884e-03,  5.44066132e-03,  5.52436380e-03,  5.60806629e-03,\n",
       "         5.69176877e-03,  5.77547125e-03,  5.85917373e-03,  5.94287621e-03,\n",
       "         6.02657870e-03,  6.11028118e-03,  6.19398366e-03,  6.27768614e-03,\n",
       "         6.36138862e-03,  6.44509110e-03,  6.52879359e-03,  6.61249607e-03,\n",
       "         6.69619855e-03,  6.77990103e-03,  6.86360351e-03,  6.94730600e-03,\n",
       "         7.03100848e-03,  7.11471096e-03,  7.19841344e-03,  7.28211592e-03,\n",
       "         7.36581841e-03,  7.44952089e-03,  7.53322337e-03,  7.61692585e-03,\n",
       "         7.70062833e-03,  7.78433081e-03,  7.86803330e-03,  7.95173578e-03,\n",
       "         8.03543826e-03,  8.11914074e-03,  8.20284322e-03,  8.28654571e-03,\n",
       "         8.37024819e-03]),\n",
       " <BarContainer object of 100 artists>)"
      ]
     },
     "execution_count": 13,
     "metadata": {},
     "output_type": "execute_result"
    },
    {
     "data": {
      "image/png": "[encoded data removed]",
      "text/plain": [
       "<Figure size 432x288 with 1 Axes>"
      ]
     },
     "metadata": {
      "needs_background": "light"
     },
     "output_type": "display_data"
    }
   ],
   "source": [
    "# plot the histogram of hub scores\n",
    "plt.hist(hubs.values(), bins=100)"
   ]
  },
  {
   "cell_type": "code",
   "execution_count": 14,
   "metadata": {},
   "outputs": [
    {
     "data": {
      "text/plain": [
       "(array([171.,  89.,  69.,  55.,  50.,  51.,  42.,  41.,  29.,  23.,  28.,\n",
       "         30.,  18.,  26.,  19.,  19.,  12.,  16.,  10.,  11.,  12.,  18.,\n",
       "         12.,   8.,   7.,   5.,   9.,   4.,   6.,   3.,  11.,   6.,   2.,\n",
       "          8.,   5.,   2.,   6.,   5.,   3.,   3.,   5.,   2.,   2.,   3.,\n",
       "          2.,   2.,   2.,   3.,   0.,   1.,   1.,   5.,   0.,   3.,   1.,\n",
       "          2.,   0.,   2.,   1.,   3.,   2.,   3.,   1.,   3.,   0.,   2.,\n",
       "          1.,   1.,   1.,   0.,   0.,   0.,   0.,   0.,   0.,   2.,   0.,\n",
       "          0.,   0.,   1.,   0.,   0.,   0.,   0.,   1.,   0.,   0.,   1.,\n",
       "          0.,   1.,   0.,   0.,   0.,   0.,   0.,   0.,   0.,   0.,   0.,\n",
       "          1.]),\n",
       " array([-4.49446133e-21,  8.37024819e-05,  1.67404964e-04,  2.51107446e-04,\n",
       "         3.34809928e-04,  4.18512409e-04,  5.02214891e-04,  5.85917373e-04,\n",
       "         6.69619855e-04,  7.53322337e-04,  8.37024819e-04,  9.20727301e-04,\n",
       "         1.00442978e-03,  1.08813226e-03,  1.17183475e-03,  1.25553723e-03,\n",
       "         1.33923971e-03,  1.42294219e-03,  1.50664467e-03,  1.59034716e-03,\n",
       "         1.67404964e-03,  1.75775212e-03,  1.84145460e-03,  1.92515708e-03,\n",
       "         2.00885957e-03,  2.09256205e-03,  2.17626453e-03,  2.25996701e-03,\n",
       "         2.34366949e-03,  2.42737197e-03,  2.51107446e-03,  2.59477694e-03,\n",
       "         2.67847942e-03,  2.76218190e-03,  2.84588438e-03,  2.92958687e-03,\n",
       "         3.01328935e-03,  3.09699183e-03,  3.18069431e-03,  3.26439679e-03,\n",
       "         3.34809928e-03,  3.43180176e-03,  3.51550424e-03,  3.59920672e-03,\n",
       "         3.68290920e-03,  3.76661168e-03,  3.85031417e-03,  3.93401665e-03,\n",
       "         4.01771913e-03,  4.10142161e-03,  4.18512409e-03,  4.26882658e-03,\n",
       "         4.35252906e-03,  4.43623154e-03,  4.51993402e-03,  4.60363650e-03,\n",
       "         4.68733899e-03,  4.77104147e-03,  4.85474395e-03,  4.93844643e-03,\n",
       "         5.02214891e-03,  5.10585139e-03,  5.18955388e-03,  5.27325636e-03,\n",
       "         5.35695884e-03,  5.44066132e-03,  5.52436380e-03,  5.60806629e-03,\n",
       "         5.69176877e-03,  5.77547125e-03,  5.85917373e-03,  5.94287621e-03,\n",
       "         6.02657870e-03,  6.11028118e-03,  6.19398366e-03,  6.27768614e-03,\n",
       "         6.36138862e-03,  6.44509110e-03,  6.52879359e-03,  6.61249607e-03,\n",
       "         6.69619855e-03,  6.77990103e-03,  6.86360351e-03,  6.94730600e-03,\n",
       "         7.03100848e-03,  7.11471096e-03,  7.19841344e-03,  7.28211592e-03,\n",
       "         7.36581841e-03,  7.44952089e-03,  7.53322337e-03,  7.61692585e-03,\n",
       "         7.70062833e-03,  7.78433081e-03,  7.86803330e-03,  7.95173578e-03,\n",
       "         8.03543826e-03,  8.11914074e-03,  8.20284322e-03,  8.28654571e-03,\n",
       "         8.37024819e-03]),\n",
       " <BarContainer object of 100 artists>)"
      ]
     },
     "execution_count": 14,
     "metadata": {},
     "output_type": "execute_result"
    },
    {
     "data": {
      "image/png": "[encoded data removed]",
      "text/plain": [
       "<Figure size 432x288 with 1 Axes>"
      ]
     },
     "metadata": {
      "needs_background": "light"
     },
     "output_type": "display_data"
    }
   ],
   "source": [
    "# plot the histogram of authority scores\n",
    "plt.hist(authorities.values(), bins=100)"
   ]
  },
  {
   "attachments": {},
   "cell_type": "markdown",
   "metadata": {},
   "source": [
    "#### Page Rank Score vs Authority and Hub Score"
   ]
  },
  {
   "cell_type": "code",
   "execution_count": 15,
   "metadata": {},
   "outputs": [],
   "source": [
    "difference_page_rank_hubs = [page_rank_scores[i] - hubs[i] for i in range(num_nodes)]\n",
    "difference_page_rank_authorities = [page_rank_scores[i] - authorities[i] for i in range(num_nodes)]"
   ]
  },
  {
   "cell_type": "code",
   "execution_count": 16,
   "metadata": {},
   "outputs": [
    {
     "data": {
      "text/plain": [
       "(array([  1.,   1.,   0.,   0.,   0.,   2.,   0.,   0.,   0.,   2.,   2.,\n",
       "          2.,   2.,   1.,   2.,   2.,   1.,   3.,   2.,   3.,   2.,   1.,\n",
       "          5.,   2.,   5.,   4.,   2.,   3.,   4.,   5.,   6.,   4.,   2.,\n",
       "          4.,   7.,   5.,   5.,   3.,   8.,   6.,  11.,   6.,  11.,   9.,\n",
       "         12.,  12.,   6.,  13.,   9.,  12.,  21.,  20.,  24.,  21.,  21.,\n",
       "         29.,  52.,  65.,  96., 109.,  75.,  59.,  39.,  30.,  25.,  12.,\n",
       "         16.,  11.,  10.,  11.,   2.,   4.,   5.,   1.,   4.,   1.,   4.,\n",
       "          2.,   0.,   3.,  19.,   0.,   1.,   0.,   0.,   0.,   0.,   0.,\n",
       "          0.,   1.,   0.,   0.,   0.,   0.,   0.,   0.,   0.,   0.,   0.,\n",
       "          2.]),\n",
       " array([-2.21561578e-03, -2.17549172e-03, -2.13536766e-03, -2.09524360e-03,\n",
       "        -2.05511954e-03, -2.01499548e-03, -1.97487142e-03, -1.93474737e-03,\n",
       "        -1.89462331e-03, -1.85449925e-03, -1.81437519e-03, -1.77425113e-03,\n",
       "        -1.73412707e-03, -1.69400301e-03, -1.65387895e-03, -1.61375489e-03,\n",
       "        -1.57363083e-03, -1.53350678e-03, -1.49338272e-03, -1.45325866e-03,\n",
       "        -1.41313460e-03, -1.37301054e-03, -1.33288648e-03, -1.29276242e-03,\n",
       "        -1.25263836e-03, -1.21251430e-03, -1.17239025e-03, -1.13226619e-03,\n",
       "        -1.09214213e-03, -1.05201807e-03, -1.01189401e-03, -9.71769951e-04,\n",
       "        -9.31645892e-04, -8.91521833e-04, -8.51397774e-04, -8.11273715e-04,\n",
       "        -7.71149656e-04, -7.31025598e-04, -6.90901539e-04, -6.50777480e-04,\n",
       "        -6.10653421e-04, -5.70529362e-04, -5.30405303e-04, -4.90281244e-04,\n",
       "        -4.50157185e-04, -4.10033126e-04, -3.69909067e-04, -3.29785008e-04,\n",
       "        -2.89660949e-04, -2.49536891e-04, -2.09412832e-04, -1.69288773e-04,\n",
       "        -1.29164714e-04, -8.90406548e-05, -4.89165959e-05, -8.79253700e-06,\n",
       "         3.13315219e-05,  7.14555808e-05,  1.11579640e-04,  1.51703699e-04,\n",
       "         1.91827758e-04,  2.31951816e-04,  2.72075875e-04,  3.12199934e-04,\n",
       "         3.52323993e-04,  3.92448052e-04,  4.32572111e-04,  4.72696170e-04,\n",
       "         5.12820229e-04,  5.52944288e-04,  5.93068347e-04,  6.33192406e-04,\n",
       "         6.73316465e-04,  7.13440524e-04,  7.53564582e-04,  7.93688641e-04,\n",
       "         8.33812700e-04,  8.73936759e-04,  9.14060818e-04,  9.54184877e-04,\n",
       "         9.94308936e-04,  1.03443299e-03,  1.07455705e-03,  1.11468111e-03,\n",
       "         1.15480517e-03,  1.19492923e-03,  1.23505329e-03,  1.27517735e-03,\n",
       "         1.31530141e-03,  1.35542547e-03,  1.39554953e-03,  1.43567358e-03,\n",
       "         1.47579764e-03,  1.51592170e-03,  1.55604576e-03,  1.59616982e-03,\n",
       "         1.63629388e-03,  1.67641794e-03,  1.71654200e-03,  1.75666606e-03,\n",
       "         1.79679011e-03]),\n",
       " <BarContainer object of 100 artists>)"
      ]
     },
     "execution_count": 16,
     "metadata": {},
     "output_type": "execute_result"
    },
    {
     "data": {
      "image/png": "[encoded data removed]",
      "text/plain": [
       "<Figure size 432x288 with 1 Axes>"
      ]
     },
     "metadata": {
      "needs_background": "light"
     },
     "output_type": "display_data"
    }
   ],
   "source": [
    "# plot the histogram of difference between page rank and hub scores\n",
    "plt.hist(difference_page_rank_hubs, bins=100)"
   ]
  },
  {
   "cell_type": "code",
   "execution_count": 17,
   "metadata": {},
   "outputs": [
    {
     "data": {
      "text/plain": [
       "(array([  1.,   1.,   0.,   0.,   0.,   2.,   0.,   0.,   0.,   2.,   2.,\n",
       "          2.,   2.,   1.,   2.,   2.,   1.,   3.,   2.,   3.,   2.,   1.,\n",
       "          5.,   2.,   5.,   4.,   2.,   3.,   4.,   5.,   6.,   4.,   2.,\n",
       "          4.,   7.,   5.,   5.,   3.,   8.,   6.,  11.,   6.,  11.,   9.,\n",
       "         12.,  12.,   6.,  13.,   9.,  12.,  21.,  20.,  24.,  21.,  21.,\n",
       "         29.,  52.,  65.,  96., 109.,  75.,  59.,  39.,  30.,  25.,  12.,\n",
       "         16.,  11.,  10.,  11.,   2.,   4.,   5.,   1.,   4.,   1.,   4.,\n",
       "          2.,   0.,   3.,  19.,   0.,   1.,   0.,   0.,   0.,   0.,   0.,\n",
       "          0.,   1.,   0.,   0.,   0.,   0.,   0.,   0.,   0.,   0.,   0.,\n",
       "          2.]),\n",
       " array([-2.21561578e-03, -2.17549172e-03, -2.13536766e-03, -2.09524360e-03,\n",
       "        -2.05511954e-03, -2.01499548e-03, -1.97487142e-03, -1.93474737e-03,\n",
       "        -1.89462331e-03, -1.85449925e-03, -1.81437519e-03, -1.77425113e-03,\n",
       "        -1.73412707e-03, -1.69400301e-03, -1.65387895e-03, -1.61375489e-03,\n",
       "        -1.57363083e-03, -1.53350678e-03, -1.49338272e-03, -1.45325866e-03,\n",
       "        -1.41313460e-03, -1.37301054e-03, -1.33288648e-03, -1.29276242e-03,\n",
       "        -1.25263836e-03, -1.21251430e-03, -1.17239025e-03, -1.13226619e-03,\n",
       "        -1.09214213e-03, -1.05201807e-03, -1.01189401e-03, -9.71769951e-04,\n",
       "        -9.31645892e-04, -8.91521833e-04, -8.51397774e-04, -8.11273715e-04,\n",
       "        -7.71149656e-04, -7.31025598e-04, -6.90901539e-04, -6.50777480e-04,\n",
       "        -6.10653421e-04, -5.70529362e-04, -5.30405303e-04, -4.90281244e-04,\n",
       "        -4.50157185e-04, -4.10033126e-04, -3.69909067e-04, -3.29785008e-04,\n",
       "        -2.89660949e-04, -2.49536891e-04, -2.09412832e-04, -1.69288773e-04,\n",
       "        -1.29164714e-04, -8.90406548e-05, -4.89165959e-05, -8.79253700e-06,\n",
       "         3.13315219e-05,  7.14555808e-05,  1.11579640e-04,  1.51703699e-04,\n",
       "         1.91827758e-04,  2.31951816e-04,  2.72075875e-04,  3.12199934e-04,\n",
       "         3.52323993e-04,  3.92448052e-04,  4.32572111e-04,  4.72696170e-04,\n",
       "         5.12820229e-04,  5.52944288e-04,  5.93068347e-04,  6.33192406e-04,\n",
       "         6.73316465e-04,  7.13440524e-04,  7.53564582e-04,  7.93688641e-04,\n",
       "         8.33812700e-04,  8.73936759e-04,  9.14060818e-04,  9.54184877e-04,\n",
       "         9.94308936e-04,  1.03443299e-03,  1.07455705e-03,  1.11468111e-03,\n",
       "         1.15480517e-03,  1.19492923e-03,  1.23505329e-03,  1.27517735e-03,\n",
       "         1.31530141e-03,  1.35542547e-03,  1.39554953e-03,  1.43567358e-03,\n",
       "         1.47579764e-03,  1.51592170e-03,  1.55604576e-03,  1.59616982e-03,\n",
       "         1.63629388e-03,  1.67641794e-03,  1.71654200e-03,  1.75666606e-03,\n",
       "         1.79679011e-03]),\n",
       " <BarContainer object of 100 artists>)"
      ]
     },
     "execution_count": 17,
     "metadata": {},
     "output_type": "execute_result"
    },
    {
     "data": {
      "image/png": "[encoded data removed]",
      "text/plain": [
       "<Figure size 432x288 with 1 Axes>"
      ]
     },
     "metadata": {
      "needs_background": "light"
     },
     "output_type": "display_data"
    }
   ],
   "source": [
    "# plot the histogram of difference between page rank and authority scores\n",
    "plt.hist(difference_page_rank_authorities, bins=100)"
   ]
  },
  {
   "cell_type": "code",
   "execution_count": null,
   "metadata": {},
   "outputs": [],
   "source": []
  }
 ],
 "metadata": {
  "kernelspec": {
   "display_name": "Python 3",
   "language": "python",
   "name": "python3"
  },
  "language_info": {
   "codemirror_mode": {
    "name": "ipython",
    "version": 3
   },
   "file_extension": ".py",
   "mimetype": "text/x-python",
   "name": "python",
   "nbconvert_exporter": "python",
   "pygments_lexer": "ipython3",
   "version": "3.9.13"
  },
  "orig_nbformat": 4
 },
 "nbformat": 4,
 "nbformat_minor": 2
}
